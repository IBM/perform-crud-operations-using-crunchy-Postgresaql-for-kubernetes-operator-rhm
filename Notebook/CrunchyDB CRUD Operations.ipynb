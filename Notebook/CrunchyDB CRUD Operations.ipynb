{
 "cells": [
  {
   "cell_type": "markdown",
   "metadata": {},
   "source": [
    "## Perform CRUD operations using Crunchy PostgreSQL for Kubernetes Operator "
   ]
  },
  {
   "cell_type": "markdown",
   "metadata": {},
   "source": [
    "#### 1. Install required libraries"
   ]
  },
  {
   "cell_type": "code",
   "execution_count": null,
   "metadata": {},
   "outputs": [],
   "source": [
    "pip install psycopg2-binary"
   ]
  },
  {
   "cell_type": "code",
   "execution_count": null,
   "metadata": {},
   "outputs": [],
   "source": [
    "import psycopg2\n",
    "import psycopg2.errorcodes\n",
    "import time\n",
    "import logging\n",
    "import random"
   ]
  },
  {
   "cell_type": "markdown",
   "metadata": {},
   "source": [
    "#### 2. Connect to Crunchy PostgreSQL for Kubernetes Operator "
   ]
  },
  {
   "cell_type": "code",
   "execution_count": null,
   "metadata": {},
   "outputs": [],
   "source": [
    "conn = psycopg2.connect(database=\"hippo\", user=\"hippo\", password=\"datalake\", host=\"127.0.0.1\", port=\"5432\")"
   ]
  },
  {
   "cell_type": "markdown",
   "metadata": {},
   "source": [
    "#### 3. Create a table and populate the data"
   ]
  },
  {
   "cell_type": "code",
   "execution_count": null,
   "metadata": {},
   "outputs": [],
   "source": [
    "def create_accounts(conn):\n",
    "    with conn.cursor() as cur:\n",
    "        cur.execute('CREATE TABLE IF NOT EXISTS accounts (id INT PRIMARY KEY, balance INT)')\n",
    "        cur.execute('INSERT INTO accounts (id, balance) VALUES (1, 1000), (2, 250)')\n",
    "        logging.debug(\"create_accounts(): status message: {}\".format(cur.statusmessage))\n",
    "    conn.commit()"
   ]
  },
  {
   "cell_type": "code",
   "execution_count": null,
   "metadata": {},
   "outputs": [],
   "source": [
    "create_accounts(conn)"
   ]
  },
  {
   "cell_type": "markdown",
   "metadata": {},
   "source": [
    "#### 4. Read/Query the data from the table"
   ]
  },
  {
   "cell_type": "code",
   "execution_count": null,
   "metadata": {},
   "outputs": [],
   "source": [
    "def query(conn):\n",
    "    with conn.cursor() as cur:\n",
    "        cur.execute(\"SELECT id, balance FROM accounts\")\n",
    "        logging.debug(\"print_balances(): status message: {}\".format(cur.statusmessage))\n",
    "        rows = cur.fetchall()\n",
    "        conn.commit()\n",
    "        print(\"Balances at {}\".format(time.asctime()))\n",
    "        for row in rows:\n",
    "            print([str(cell) for cell in row])"
   ]
  },
  {
   "cell_type": "code",
   "execution_count": null,
   "metadata": {},
   "outputs": [],
   "source": [
    "query(conn)"
   ]
  },
  {
   "cell_type": "markdown",
   "metadata": {},
   "source": [
    "#### 5. Perform required operations and Update the data in the table"
   ]
  },
  {
   "cell_type": "code",
   "execution_count": null,
   "metadata": {},
   "outputs": [],
   "source": [
    "def run_transaction(conn, op):\n",
    "    retries = 0\n",
    "    max_retries = 3\n",
    "    with conn:\n",
    "        while True:\n",
    "            retries +=1\n",
    "            if retries == max_retries:\n",
    "                err_msg = \"Transaction did not succeed after {} retries\".format(max_retries)\n",
    "                raise ValueError(err_msg)\n",
    "\n",
    "            try:\n",
    "                op(conn)\n",
    "\n",
    "                # If we reach this point, we were able to commit, so we break\n",
    "                # from the retry loop.\n",
    "                break\n",
    "            except psycopg2.Error as e:\n",
    "                logging.debug(\"e.pgcode: {}\".format(e.pgcode))\n",
    "                if e.pgcode == '40001':\n",
    "                    # This is a retry error, so we roll back the current\n",
    "                    # transaction and sleep for a bit before retrying. The\n",
    "                    # sleep time increases for each failed transaction.\n",
    "                    conn.rollback()\n",
    "                    logging.debug(\"EXECUTE SERIALIZATION_FAILURE BRANCH\")\n",
    "                    sleep_ms = (2**retries) * 0.1 * (random.random() + 0.5)\n",
    "                    logging.debug(\"Sleeping {} seconds\".format(sleep_ms))\n",
    "                    time.sleep(sleep_ms)\n",
    "                    continue\n",
    "                else:\n",
    "                    logging.debug(\"EXECUTE NON-SERIALIZATION_FAILURE BRANCH\")\n",
    "                    raise e"
   ]
  },
  {
   "cell_type": "code",
   "execution_count": null,
   "metadata": {},
   "outputs": [],
   "source": [
    "def transfer_funds(conn, frm, to, amount):\n",
    "    with conn.cursor() as cur:\n",
    "\n",
    "        # Check the current balance.\n",
    "        cur.execute(\"SELECT balance FROM accounts WHERE id = \" + str(frm))\n",
    "        from_balance = cur.fetchone()[0]\n",
    "        if from_balance < amount:\n",
    "            err_msg = \"Insufficient funds in account {}: have {}, need {}\".format(frm, from_balance, amount)\n",
    "            raise RuntimeError(err_msg)\n",
    "\n",
    "        # Perform the transfer.\n",
    "        cur.execute(\"UPDATE accounts SET balance = balance - %s WHERE id = %s\",\n",
    "                    (amount, frm))\n",
    "        cur.execute(\"UPDATE accounts SET balance = balance + %s WHERE id = %s\",\n",
    "                    (amount, to))\n",
    "    conn.commit()\n",
    "    logging.debug(\"transfer_funds(): status message: {}\".format(cur.statusmessage))"
   ]
  },
  {
   "cell_type": "code",
   "execution_count": null,
   "metadata": {},
   "outputs": [],
   "source": [
    "amount = 100\n",
    "fromId = 1\n",
    "toId = 2\n",
    "\n",
    "try:\n",
    "    run_transaction(conn, lambda conn: transfer_funds(conn, fromId, toId, amount))\n",
    "except ValueError as ve:\n",
    "    logging.debug(\"run_transaction(conn, op) failed: {}\".format(ve))\n",
    "    pass"
   ]
  },
  {
   "cell_type": "code",
   "execution_count": null,
   "metadata": {},
   "outputs": [],
   "source": [
    "query(conn)"
   ]
  },
  {
   "cell_type": "markdown",
   "metadata": {},
   "source": [
    "#### 6. Delete the data content"
   ]
  },
  {
   "cell_type": "code",
   "execution_count": null,
   "metadata": {},
   "outputs": [],
   "source": [
    "def delete_accounts(conn):\n",
    "    with conn.cursor() as cur:\n",
    "        cur.execute(\"DELETE FROM hippo.accounts WHERE id=2\")\n",
    "        logging.debug(\"delete_accounts(): status message: {}\".format(cur.statusmessage))\n",
    "    conn.commit()"
   ]
  },
  {
   "cell_type": "code",
   "execution_count": null,
   "metadata": {},
   "outputs": [],
   "source": [
    "delete_accounts(conn)"
   ]
  },
  {
   "cell_type": "code",
   "execution_count": null,
   "metadata": {},
   "outputs": [],
   "source": [
    "query(conn)"
   ]
  },
  {
   "cell_type": "markdown",
   "metadata": {},
   "source": [
    "#### 7. Drop the table"
   ]
  },
  {
   "cell_type": "code",
   "execution_count": null,
   "metadata": {},
   "outputs": [],
   "source": [
    "def delete_table(conn):\n",
    "    with conn.cursor() as cur:\n",
    "        cur.execute(\"DROP TABLE hippo.accounts\")\n",
    "        logging.debug(\"delete_accounts(): status message: {}\".format(cur.statusmessage))\n",
    "    conn.commit()"
   ]
  },
  {
   "cell_type": "markdown",
   "metadata": {},
   "source": [
    "#### Uncomment the below step to delete the table"
   ]
  },
  {
   "cell_type": "code",
   "execution_count": null,
   "metadata": {},
   "outputs": [],
   "source": [
    "#delete_table(conn)"
   ]
  },
  {
   "cell_type": "markdown",
   "metadata": {},
   "source": [
    "#### 8. Close communication with the database."
   ]
  },
  {
   "cell_type": "code",
   "execution_count": null,
   "metadata": {},
   "outputs": [],
   "source": [
    "conn.close()"
   ]
  },
  {
   "cell_type": "code",
   "execution_count": null,
   "metadata": {},
   "outputs": [],
   "source": []
  }
 ],
 "metadata": {
  "kernelspec": {
   "display_name": "Python 3",
   "language": "python",
   "name": "python3"
  },
  "language_info": {
   "codemirror_mode": {
    "name": "ipython",
    "version": 3
   },
   "file_extension": ".py",
   "mimetype": "text/x-python",
   "name": "python",
   "nbconvert_exporter": "python",
   "pygments_lexer": "ipython3",
   "version": "3.7.4"
  }
 },
 "nbformat": 4,
 "nbformat_minor": 4
}
